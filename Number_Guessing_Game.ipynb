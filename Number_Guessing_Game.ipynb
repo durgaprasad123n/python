{
 "cells": [
  {
   "cell_type": "code",
   "execution_count": 1,
   "id": "c3aff37d",
   "metadata": {},
   "outputs": [],
   "source": [
    "import random"
   ]
  },
  {
   "cell_type": "markdown",
   "id": "716a00e0",
   "metadata": {},
   "source": [
    "# Number Guessing Game"
   ]
  },
  {
   "cell_type": "code",
   "execution_count": 2,
   "id": "bec7897d",
   "metadata": {},
   "outputs": [
    {
     "name": "stdout",
     "output_type": "stream",
     "text": [
      "Enter the Number100\n",
      "Guess lower number\n",
      "Enter the Number90\n",
      "Guess lower number\n",
      "Enter the Number80\n",
      "Guess lower number\n",
      "Enter the Number70\n",
      "Guess lower number\n",
      "Enter the Number65\n",
      "Guess lower number\n",
      "Enter the Number60\n",
      "correct\n",
      "you took 6 attempts\n"
     ]
    }
   ],
   "source": [
    "jackpot = random.randint(1,125)\n",
    "guess = int(input('Enter the Number'))\n",
    "c = 1\n",
    "while guess != jackpot:\n",
    "    if guess < jackpot:\n",
    "        print('Guess higher number')\n",
    "    else:\n",
    "        print('Guess lower number')\n",
    "    guess = int(input('Enter the Number'))\n",
    "    c+=1\n",
    "print('correct')\n",
    "print('you took', c,'attempts')\n"
   ]
  },
  {
   "cell_type": "code",
   "execution_count": null,
   "id": "dfa9f036",
   "metadata": {},
   "outputs": [],
   "source": []
  }
 ],
 "metadata": {
  "kernelspec": {
   "display_name": "Python 3 (ipykernel)",
   "language": "python",
   "name": "python3"
  },
  "language_info": {
   "codemirror_mode": {
    "name": "ipython",
    "version": 3
   },
   "file_extension": ".py",
   "mimetype": "text/x-python",
   "name": "python",
   "nbconvert_exporter": "python",
   "pygments_lexer": "ipython3",
   "version": "3.9.7"
  }
 },
 "nbformat": 4,
 "nbformat_minor": 5
}
